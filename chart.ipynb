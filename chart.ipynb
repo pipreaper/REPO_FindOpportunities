{
  "nbformat": 4,
  "nbformat_minor": 0,
  "metadata": {
    "colab": {
      "name": "chart.ipynb",
      "provenance": [],
      "collapsed_sections": [],
      "authorship_tag": "ABX9TyMJs0EUP6bOoaCzTJfnBY6R",
      "include_colab_link": true
    },
    "kernelspec": {
      "name": "python3",
      "display_name": "Python 3"
    }
  },
  "cells": [
    {
      "cell_type": "markdown",
      "metadata": {
        "id": "view-in-github",
        "colab_type": "text"
      },
      "source": [
        "<a href=\"https://colab.research.google.com/github/pipreaper/REPO_FindOpportunities/blob/master/chart.ipynb\" target=\"_parent\"><img src=\"https://colab.research.google.com/assets/colab-badge.svg\" alt=\"Open In Colab\"/></a>"
      ]
    },
    {
      "cell_type": "code",
      "metadata": {
        "id": "uWIeLa4MdQ9d",
        "colab_type": "code",
        "colab": {}
      },
      "source": [
        "# install dependancies\n",
        "from google.colab import drive\n",
        "from google.colab import files\n",
        "# Seaborn for plotting and styling\n",
        "import seaborn as sns\n",
        "import numpy as np\n",
        "import pandas as pd\n",
        "from os import listdir\n",
        "from os import chdir\n",
        "import matplotlib.pyplot as plt\n",
        "plt.style.use('bmh')\n",
        "\n",
        "## consolidateDataFiles ##\n",
        "def consolidateDataFiles():\n",
        "  # change working directory-\n",
        "  chdir('/content/gdrive/My Drive/COT_DATA')\n",
        "  # Read all the files into one data frame\n",
        "  filepaths = [f for f in listdir('/content/gdrive/My Drive/COT_DATA/') if f.endswith('.txt')]\n",
        "  return (pd.concat(map(pd.read_csv, filepaths)))\n",
        "\n",
        "## trimSortChartData ##\n",
        "def trimSortChartData(df):\n",
        "  df['flip'] = df['% of OI-Noncommercial-Long (All)'] - df['% of OI-Noncommercial-Short (All)']\n",
        "  # sort data by \n",
        "  df = df.sort_values(['Market and Exchange Names','As of Date in Form YYMMDD'])\n",
        "  # Strip all the space\n",
        "  df['Market and Exchange Names'] = df['Market and Exchange Names'].str.replace(\" \",\"\")\n",
        "  df['Market and Exchange Names'] = df['Market and Exchange Names'].str.replace(\",\",\" - \")\n",
        "  df['Market and Exchange Names'] = df['Market and Exchange Names'].str.replace(\"DOLLARS\",\"DOLLAR\")\n",
        "  cd = df[['Market and Exchange Names','As of Date in Form YYMMDD','As of Date in Form YYYY-MM-DD','Noncommercial Positions-Long (All)','Noncommercial Positions-Short (All)','Change in Noncommercial-Long (All)','Change in Noncommercial-Short (All)','% of OI-Noncommercial-Long (All)','% of OI-Noncommercial-Short (All)','flip']]\n",
        "  cd = cd.sort_values(['Market and Exchange Names','As of Date in Form YYMMDD'])  \n",
        "  return (cd)\n",
        "\n",
        "## listGoogleDriveFIles ##\n",
        "def listGoogleDriveFIles():\n",
        "  !ls '/content/gdrive/My Drive/COT_DATA/'\n",
        "\n",
        "## showChart ##\n",
        "def showChart(chart_data_symbol):\n",
        "  #chart_data_AUD.set_index('As of Date in Form YYYY-MM-DD')['flip'].plot();\n",
        "  sns.set(font_scale=1.4)\n",
        "  chart_data_symbol.set_index('As of Date in Form YYYY-MM-DD')['flip'].plot(figsize=(12, 10), linewidth=2.5, color='maroon')\n",
        "  plt.xlabel(\"Date\", labelpad=15)\n",
        "  plt.ylabel(\"% (Long - Short) Non Commercial Futures\", labelpad=15)\n",
        "  plt.title(\"AUDUSD COT Data Flip\", y=1.02, fontsize=22);\n",
        "\n",
        "## writeSymbolCSV ##  \n",
        "def writeSymbolCSV(cds):\n",
        "  ##Create a csv named data_all_csv on google drive\n",
        "  cds.to_csv('data_all.csv')\n",
        "  ## Write data frame to csv on google drive\n",
        "  #!cp data.csv '/content/gdrive/My Drive/COT_DATA'\n",
        "\n",
        "  ## Write a file to local hard disk\n",
        "  from google.colab import files\n",
        "  files.download(\"data_all.csv\")  \n",
        "\n",
        "## MAIN RUN\n",
        "drive.mount('/content/gdrive')\n",
        "df_main = consolidateDataFiles()\n",
        "chart_data= trimSortChartData(df_main)\n",
        "## filter rows for AUDUSD using  the boolean expression\n",
        "chart_data_symbol = chart_data[chart_data['Market and Exchange Names'].eq('AUSTRALIANDOLLAR-CHICAGOMERCANTILEEXCHANGE')]\n",
        "showChart(chart_data_symbol)\n",
        "writeSymbolCSV(chart_data_symbol)"
      ],
      "execution_count": null,
      "outputs": []
    }
  ]
}