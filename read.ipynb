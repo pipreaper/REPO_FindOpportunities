{
  "nbformat": 4,
  "nbformat_minor": 0,
  "metadata": {
    "colab": {
      "name": "Copy of Copy of Untitled0.ipynb",
      "provenance": [],
      "collapsed_sections": [],
      "authorship_tag": "ABX9TyN3Gg+LRfwbFR8p32HOKHtw",
      "include_colab_link": true
    },
    "kernelspec": {
      "name": "python3",
      "display_name": "Python 3"
    }
  },
  "cells": [
    {
      "cell_type": "markdown",
      "metadata": {
        "id": "view-in-github",
        "colab_type": "text"
      },
      "source": [
        "<a href=\"https://colab.research.google.com/github/pipreaper/REPO_FindOpportunities/blob/master/read.ipynb\" target=\"_parent\"><img src=\"https://colab.research.google.com/assets/colab-badge.svg\" alt=\"Open In Colab\"/></a>"
      ]
    },
    {
      "cell_type": "code",
      "metadata": {
        "id": "uWIeLa4MdQ9d",
        "colab_type": "code",
        "colab": {}
      },
      "source": [
        "# install dependancies\n",
        "import numpy as np\n",
        "import pandas as pd\n",
        "import matplotlib.pyplot as plt\n",
        "plt.style.use('bmh')"
      ],
      "execution_count": 9,
      "outputs": []
    },
    {
      "cell_type": "code",
      "metadata": {
        "id": "RAGy4-Cwhi2I",
        "colab_type": "code",
        "colab": {
          "base_uri": "https://localhost:8080/",
          "height": 54
        },
        "outputId": "cfa4a3ef-478a-49bd-9c44-2f29d7a2275e"
      },
      "source": [
        "from google.colab import drive\n",
        "drive.mount('/content/gdrive')"
      ],
      "execution_count": 10,
      "outputs": [
        {
          "output_type": "stream",
          "text": [
            "Drive already mounted at /content/gdrive; to attempt to forcibly remount, call drive.mount(\"/content/gdrive\", force_remount=True).\n"
          ],
          "name": "stdout"
        }
      ]
    },
    {
      "cell_type": "code",
      "metadata": {
        "id": "ZernW0nLoE0W",
        "colab_type": "code",
        "colab": {
          "base_uri": "https://localhost:8080/",
          "height": 102
        },
        "outputId": "f0a7a39b-ec88-4616-ed61-98458730dbdd"
      },
      "source": [
        "!ls '/content/gdrive/My Drive/COT_DATA/'"
      ],
      "execution_count": 11,
      "outputs": [
        {
          "output_type": "stream",
          "text": [
            "annual_0.TXT   annual_14.txt  annual_19.txt  annual_4.txt  annual_9.txt\n",
            "annual_10.txt  annual_15.txt  annual_1.TXT   annual_5.txt\n",
            "annual_11.txt  annual_16.txt  annual_20.txt  annual_6.txt\n",
            "annual_12.txt  annual_17.txt  annual_2.TXT   annual_7.txt\n",
            "annual_13.txt  annual_18.txt  annual_3.txt   annual_8.txt\n"
          ],
          "name": "stdout"
        }
      ]
    },
    {
      "cell_type": "code",
      "metadata": {
        "id": "kEOO4KaOkoRw",
        "colab_type": "code",
        "colab": {}
      },
      "source": [
        "# store the data into a data frame\n",
        "df = pd.read_csv('/content/gdrive/My Drive/COT_DATA/annual_0.TXT')"
      ],
      "execution_count": 14,
      "outputs": []
    },
    {
      "cell_type": "code",
      "metadata": {
        "id": "Qs91ihnsvVcP",
        "colab_type": "code",
        "colab": {
          "base_uri": "https://localhost:8080/",
          "height": 34
        },
        "outputId": "63009c07-00a8-495e-d64a-e3930ca7512a"
      },
      "source": [
        "df.shape"
      ],
      "execution_count": 15,
      "outputs": [
        {
          "output_type": "execute_result",
          "data": {
            "text/plain": [
              "(3261, 129)"
            ]
          },
          "metadata": {
            "tags": []
          },
          "execution_count": 15
        }
      ]
    }
  ]
}